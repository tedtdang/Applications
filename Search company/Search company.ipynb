{
 "cells": [
  {
   "cell_type": "code",
   "execution_count": 20,
   "outputs": [
    {
     "data": {
      "text/plain": "25628"
     },
     "execution_count": 20,
     "metadata": {},
     "output_type": "execute_result"
    }
   ],
   "source": [
    "import pandas as pd\n",
    "import sqlite3\n",
    "\n",
    "# Read a CSV file into a pandas DataFrame\n",
    "df = pd.read_csv('employer-export.csv')\n",
    "\n",
    "# Create an in-memory SQLite database\n",
    "conn = sqlite3.connect(':memory:')\n",
    "\n",
    "# Load the DataFrame into a SQL table\n",
    "df.to_sql('my_table', conn, if_exists='replace', index=False)"
   ],
   "metadata": {
    "collapsed": false,
    "ExecuteTime": {
     "end_time": "2023-06-16T23:35:48.102192100Z",
     "start_time": "2023-06-16T23:35:47.968154Z"
    }
   }
  },
  {
   "cell_type": "code",
   "execution_count": 40,
   "outputs": [
    {
     "name": "stdout",
     "output_type": "stream",
     "text": [
      "                 Employer   Doing Business As Workforce Size\n",
      "0        N Touch Wireless                None       20 to 99\n",
      "1      N-ASK INCORPORATED                NASK       20 to 99\n",
      "2     n-ask, incorporated                None       20 to 99\n",
      "3              N.B. Handy            NB Handy     100 to 499\n",
      "4    N2N Integrations LLC                None       20 to 99\n",
      "..                    ...                 ...            ...\n",
      "308             NW3C, Inc                None     100 to 499\n",
      "309         NWAP II, Inc.  Northwest Atlantic       10 to 19\n",
      "310   NWB Technology, LLC                None       20 to 99\n",
      "311            NYCOM, INC                None       20 to 99\n",
      "312           Nylas, Inc.                None     100 to 499\n",
      "\n",
      "[313 rows x 3 columns]\n"
     ]
    }
   ],
   "source": [
    "# Query the table using SQL syntax\n",
    "query = \\\n",
    "    'SELECT Employer, \"Doing Business As\", \"Workforce Size\" ' \\\n",
    "    'FROM my_table ' \\\n",
    "    'where \"Date Terminated\" is null and \"Hiring Site Locations (by state)\" is not \"VA\" and Employer like \"N%\"'\n",
    "result = pd.read_sql_query(query, conn)\n",
    "result.to_csv('filtered.csv', index=False)\n",
    "# Show the result\n",
    "print(result)"
   ],
   "metadata": {
    "collapsed": false,
    "ExecuteTime": {
     "end_time": "2023-06-16T23:46:53.524631500Z",
     "start_time": "2023-06-16T23:46:53.511523900Z"
    }
   }
  },
  {
   "cell_type": "code",
   "execution_count": null,
   "outputs": [],
   "source": [],
   "metadata": {
    "collapsed": false
   }
  }
 ],
 "metadata": {
  "kernelspec": {
   "display_name": "Python 3",
   "language": "python",
   "name": "python3"
  },
  "language_info": {
   "codemirror_mode": {
    "name": "ipython",
    "version": 2
   },
   "file_extension": ".py",
   "mimetype": "text/x-python",
   "name": "python",
   "nbconvert_exporter": "python",
   "pygments_lexer": "ipython2",
   "version": "2.7.6"
  }
 },
 "nbformat": 4,
 "nbformat_minor": 0
}
